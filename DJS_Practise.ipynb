{
 "cells": [
  {
   "cell_type": "markdown",
   "metadata": {},
   "source": [
    "Python Practise"
   ]
  },
  {
   "cell_type": "code",
   "execution_count": 9,
   "metadata": {},
   "outputs": [
    {
     "name": "stdout",
     "output_type": "stream",
     "text": [
      "\n",
      "p\n",
      "py\n",
      "pyt\n",
      "pyth\n",
      "pytho\n",
      "python\n",
      "pytho\n",
      "pyth\n",
      "pyt\n",
      "py\n",
      "p\n",
      "\n"
     ]
    }
   ],
   "source": [
    "#Use slicing to print a pattern\n",
    "s=\"python\"\n",
    "for i in range(0,len(s)+1):\n",
    "    print(s[:i])\n",
    "for i in range(1,len(s)+1):\n",
    "    print(s[:-i])\n"
   ]
  },
  {
   "cell_type": "code",
   "execution_count": 13,
   "metadata": {},
   "outputs": [
    {
     "name": "stdout",
     "output_type": "stream",
     "text": [
      "Tip to be paid is 12.0 hence the total amount to be paid is 112.0\n"
     ]
    }
   ],
   "source": [
    "# Tip Calculator(Basic input and operators)\n",
    "\n",
    "amount=int(input(\"Enter the total bill amount: \"))\n",
    "percentage=int(input(\"Enter the percentage of total bill amount to tip: \"))\n",
    "tip=(percentage/100)*amount\n",
    "total=amount+tip\n",
    "print(f\"Tip to be paid is {tip} hence the total amount to be paid is {total}\")"
   ]
  },
  {
   "cell_type": "code",
   "execution_count": 24,
   "metadata": {},
   "outputs": [
    {
     "name": "stdout",
     "output_type": "stream",
     "text": [
      "[[1, 2, 3], [4, 5, 6], [7, 8, 9]]\n",
      "[[1, 4, 7], [2, 5, 8], [3, 6, 9]]\n"
     ]
    }
   ],
   "source": [
    "# transpose of a 3 by 3 matrix\n",
    "\n",
    "m1=[[1,2,3],\n",
    "    [4,5,6],\n",
    "    [7,8,9]]\n",
    "print(m1)\n",
    "\n",
    "m2=[[0,0,0],\n",
    "    [0,0,0],\n",
    "    [0,0,0]]\n",
    "\n",
    "for i in range(3):\n",
    "    for j in range(3):\n",
    "        m2[i][j]=m1[j][i]\n",
    "\n",
    "print(m2)"
   ]
  },
  {
   "cell_type": "code",
   "execution_count": 34,
   "metadata": {},
   "outputs": [
    {
     "name": "stdout",
     "output_type": "stream",
     "text": [
      "321\n"
     ]
    }
   ],
   "source": [
    "#Give plaindrom of a number\n",
    "\n",
    "num=input(\"Enter a number\")\n",
    "length=len(num)\n",
    "reverse=\"\"\n",
    "for i in range(1,length+1):\n",
    "    reverse+=num[-i]\n",
    "print(reverse)"
   ]
  },
  {
   "cell_type": "code",
   "execution_count": 35,
   "metadata": {},
   "outputs": [
    {
     "name": "stdout",
     "output_type": "stream",
     "text": [
      "sjb\n",
      "izr\n"
     ]
    }
   ],
   "source": [
    "# Ceaser Cypher\n",
    "\n",
    "alphabet = ['a', 'b', 'c', 'd', 'e', 'f', 'g', 'h', 'i', 'j', 'k', 'l', 'm', 'n', 'o', 'p', 'q', 'r', 's', 't', 'u', 'v', 'w', 'x', 'y', 'z']\n",
    "\n",
    "# direction = input(\"Type 'encode' to encrypt, type 'decode' to decrypt:\\n\")\n",
    "text = input(\"Type your message:\\n\").lower()\n",
    "shift = int(input(\"Type the shift number:\\n\"))\n",
    "\n",
    "#todo-1: Create a function called 'encrypt' that takes the 'text' and 'shift' as inputs.\n",
    "\n",
    "def encrypt(plain_text,shift_amount):\n",
    "    cipher=\"\"\n",
    "    for i in plain_text:\n",
    "        pos=alphabet.index(i)\n",
    "        new_position=(pos+shift_amount)%26\n",
    "        new_letter=alphabet[new_position]\n",
    "        cipher += new_letter\n",
    "    print(cipher)\n",
    "encrypt(text,shift)\n",
    "\n",
    "\n",
    "def decrypt(plain_text,shift_amount):\n",
    "    decipher=\"\"\n",
    "    for i in plain_text:\n",
    "        pos=alphabet.index(i)\n",
    "        new_position=(pos-shift_amount)%26\n",
    "        new_letter=alphabet[new_position]\n",
    "        decipher += new_letter\n",
    "    print(decipher)\n",
    "decrypt(text,shift)\n",
    "\n",
    "# Proper implementation of this code is left, this is the main logic that will be used"
   ]
  },
  {
   "cell_type": "code",
   "execution_count": 36,
   "metadata": {},
   "outputs": [
    {
     "name": "stderr",
     "output_type": "stream",
     "text": [
      "<>:11: SyntaxWarning: invalid escape sequence '\\ '\n",
      "<>:19: SyntaxWarning: invalid escape sequence '\\ '\n",
      "<>:27: SyntaxWarning: invalid escape sequence '\\ '\n",
      "<>:11: SyntaxWarning: invalid escape sequence '\\ '\n",
      "<>:19: SyntaxWarning: invalid escape sequence '\\ '\n",
      "<>:27: SyntaxWarning: invalid escape sequence '\\ '\n",
      "C:\\Users\\Kashyap Dattani\\AppData\\Local\\Temp\\ipykernel_13164\\281101556.py:11: SyntaxWarning: invalid escape sequence '\\ '\n",
      "  stages = ['''\n",
      "C:\\Users\\Kashyap Dattani\\AppData\\Local\\Temp\\ipykernel_13164\\281101556.py:19: SyntaxWarning: invalid escape sequence '\\ '\n",
      "  ''', '''\n",
      "C:\\Users\\Kashyap Dattani\\AppData\\Local\\Temp\\ipykernel_13164\\281101556.py:27: SyntaxWarning: invalid escape sequence '\\ '\n",
      "  ''', '''\n"
     ]
    },
    {
     "name": "stdout",
     "output_type": "stream",
     "text": [
      "['h', 'e', 'l', 'l', 'o']\n",
      "['_', '_', '_', '_', '_']\n",
      "['h', '_', '_', '_', '_']\n",
      "\n",
      "  +---+\n",
      "  |   |\n",
      "  O   |\n",
      "      |\n",
      "      |\n",
      "      |\n",
      "=========\n",
      "\n",
      "['h', 'e', '_', '_', '_']\n",
      "['h', 'e', 'l', '_', '_']\n",
      "['h', 'e', 'l', 'l', '_']\n",
      "['h', 'e', 'l', 'l', 'o']\n",
      "You win\n"
     ]
    }
   ],
   "source": [
    "# Hangman\n",
    "\n",
    "import os\n",
    "\n",
    "word=input(\"Enter a word by player 1: \")\n",
    "os.system('cls')\n",
    "\n",
    "word_list=list(word)\n",
    "print(word_list)\n",
    "\n",
    "stages = ['''\n",
    "  +---+\n",
    "  |   |\n",
    "  O   |\n",
    " /|\\  |\n",
    " / \\  |\n",
    "      |\n",
    "=========\n",
    "''', '''\n",
    "  +---+\n",
    "  |   |\n",
    "  O   |\n",
    " /|\\  |\n",
    " /    |\n",
    "      |\n",
    "=========\n",
    "''', '''\n",
    "  +---+\n",
    "  |   |\n",
    "  O   |\n",
    " /|\\  |\n",
    "      |\n",
    "      |\n",
    "=========\n",
    "''', '''\n",
    "  +---+\n",
    "  |   |\n",
    "  O   |\n",
    " /|   |\n",
    "      |\n",
    "      |\n",
    "=========''', '''\n",
    "  +---+\n",
    "  |   |\n",
    "  O   |\n",
    "  |   |\n",
    "      |\n",
    "      |\n",
    "=========\n",
    "''', '''\n",
    "  +---+\n",
    "  |   |\n",
    "  O   |\n",
    "      |\n",
    "      |\n",
    "      |\n",
    "=========\n",
    "''', '''\n",
    "  +---+\n",
    "  |   |\n",
    "      |\n",
    "      |\n",
    "      |\n",
    "      |\n",
    "=========\n",
    "''']\n",
    "\n",
    "\n",
    "blank=[]\n",
    "lives=6\n",
    "\n",
    "i=0\n",
    "while i<len(word_list):\n",
    "    blank.append(\"_\")\n",
    "    i+=1\n",
    "print(blank)\n",
    "\n",
    "end_of_game=False\n",
    "\n",
    "while not end_of_game:\n",
    "    guess=input(\"Enter your guess \").lower()\n",
    "    for j in range(len(word_list)):\n",
    "        \n",
    "        if guess == word_list[j]:\n",
    "            blank[j]=guess\n",
    "            print(blank)\n",
    "        \n",
    "    if guess not in word_list:\n",
    "        lives-=1 \n",
    "        print(stages[lives])\n",
    "        if lives==0:\n",
    "            end_of_game=True\n",
    "            print(\"You lose\")\n",
    "            \n",
    "    if \"_\" not in blank:\n",
    "        end_of_game=True\n",
    "        print(\"You win\")\n"
   ]
  },
  {
   "cell_type": "code",
   "execution_count": 37,
   "metadata": {},
   "outputs": [
    {
     "name": "stdout",
     "output_type": "stream",
     "text": [
      "Welcome to the PyPassword Generator!\n",
      "['x', 'i', 'd', 's', 'V']\n",
      "['0', '0', '7']\n",
      "[')']\n",
      "['x', 'i', 'd', 's', 'V', '0', '0', '7', ')']\n",
      "['d', ')', 'V', '0', '0', 'x', '7', 's', 'i']\n",
      "d)V00x7si\n"
     ]
    }
   ],
   "source": [
    "# Random password generator\n",
    "\n",
    "import random\n",
    "letters = ['a', 'b', 'c', 'd', 'e', 'f', 'g', 'h', 'i', 'j', 'k', 'l', 'm', 'n', 'o', 'p', 'q', 'r', 's', 't', 'u', 'v', 'w', 'x', 'y', 'z', 'A', 'B', 'C', 'D', 'E', 'F', 'G', 'H', 'I', 'J', 'K', 'L', 'M', 'N', 'O', 'P', 'Q', 'R', 'S', 'T', 'U', 'V', 'W', 'X', 'Y', 'Z']\n",
    "numbers = ['0', '1', '2', '3', '4', '5', '6', '7', '8', '9']\n",
    "symbols = ['!', '#', '$', '%', '&', '(', ')', '*', '+']\n",
    "\n",
    "print(\"Welcome to the PyPassword Generator!\")\n",
    "nr_letters= int(input(\"How many letters would you like in your password?\\n\")) \n",
    "nr_numbers = int(input(f\"How many numbers would you like?\\n\"))\n",
    "nr_symbols = int(input(f\"How many symbols would you like?\\n\"))\n",
    "\n",
    "gen_letters = []\n",
    "gen_numbers = []\n",
    "gen_symbols = []\n",
    "\n",
    "#Printing all the generated values for checking purposes\n",
    "\n",
    "for i in range (1,nr_letters+1):\n",
    " gen_letters.append(random.choice(letters))\n",
    "print(gen_letters)\n",
    "\n",
    "for j in range (1,nr_numbers+1):\n",
    " gen_numbers.append(random.choice(numbers))\n",
    "print(gen_numbers)\n",
    "\n",
    "for k in range (1,nr_symbols+1):\n",
    " gen_symbols.append(random.choice(symbols))\n",
    "print(gen_symbols)\n",
    "\n",
    "data =gen_letters+gen_numbers+gen_symbols\n",
    "print(data)\n",
    "\n",
    "random.shuffle(data)\n",
    "print(data)\n",
    "\n",
    "print(''.join(data))"
   ]
  },
  {
   "cell_type": "code",
   "execution_count": null,
   "metadata": {},
   "outputs": [],
   "source": [
    "# Bidding\n",
    "\n",
    "import os\n",
    "print(\"Welcome to bidding!\")\n",
    "\n",
    "#Use of dictionaries\n",
    "\n",
    "part={}\n",
    "\n",
    "bidders=True\n",
    "while(bidders!=False):\n",
    "    name=input(\"Enter your name: \")\n",
    "    bid=int(input(\"Enter your bid: \"))\n",
    "    part[name]=bid\n",
    "    again=input(\"Are there more bidders? \").lower()\n",
    "    if again==\"no\":\n",
    "        bidders=False\n",
    "    os.system('cls')\n",
    "\n",
    "\n",
    "for name in part:\n",
    "    highest=0\n",
    "    amount=part[name]\n",
    "    winner=\"\"\n",
    "    if amount>highest:\n",
    "        highest=amount\n",
    "        winner=name\n",
    "\n",
    "print(f\"The winner is {winner}\")\n",
    "\n"
   ]
  }
 ],
 "metadata": {
  "kernelspec": {
   "display_name": "Python 3",
   "language": "python",
   "name": "python3"
  },
  "language_info": {
   "codemirror_mode": {
    "name": "ipython",
    "version": 3
   },
   "file_extension": ".py",
   "mimetype": "text/x-python",
   "name": "python",
   "nbconvert_exporter": "python",
   "pygments_lexer": "ipython3",
   "version": "3.12.0"
  }
 },
 "nbformat": 4,
 "nbformat_minor": 2
}
