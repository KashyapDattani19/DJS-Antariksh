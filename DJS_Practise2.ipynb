{
 "cells": [
  {
   "cell_type": "code",
   "execution_count": 13,
   "metadata": {},
   "outputs": [
    {
     "name": "stdout",
     "output_type": "stream",
     "text": [
      "Item    |   Price\n",
      "food1   |    12\n",
      "food2   |    50\n",
      "Total   |    62\n"
     ]
    }
   ],
   "source": [
    "# Bill \n",
    "\n",
    "def bill_generator(**kwargs):\n",
    "    print(\"Item    |   Price\")\n",
    "    sum=0\n",
    "    for key, value in kwargs.items():\n",
    "        sum+=value\n",
    "        print(key + \"   |   \",value)\n",
    "        \n",
    "    print(\"Total\" + \"   |   \",sum)\n",
    "\n",
    "bill_generator(food1=12,food2=50)"
   ]
  },
  {
   "cell_type": "code",
   "execution_count": 9,
   "metadata": {},
   "outputs": [
    {
     "name": "stdout",
     "output_type": "stream",
     "text": [
      "Enter 0 for addition\n",
      "Enter 1 for subtraction\n",
      "Enter 2 for multiplication\n",
      "Enter 3 for division\n",
      "Answer:  9\n"
     ]
    }
   ],
   "source": [
    "# Calculator using lambda function\n",
    "\n",
    "# print(\"Enter 0 for addition\")\n",
    "# print(\"Enter 1 for subtraction\")\n",
    "# print(\"Enter 2 for multiplication\")\n",
    "# print(\"Enter 3 for division\")\n",
    "\n",
    "# choice=int(input(\"Input Choice\"))\n",
    "# num1=int(input(\"Enter number 1\"))\n",
    "# num2=int(input(\"Enter number 2\"))\n",
    "\n",
    "# options=[\"add\",\"subtract\",\"multiply\",\"divide\"]\n",
    "\n",
    "# add=lambda a,b:a+b\n",
    "# subtract=lambda a,b:a-b\n",
    "# multiply=lambda a,b:a*b\n",
    "# divide=lambda a,b:a/b\n",
    "\n",
    "# if choice==0:\n",
    "#     print(options[0](num1,num2))\n",
    "\n",
    "# elif choice==1:\n",
    "#     print(options[1](num1,num2))\n",
    "\n",
    "# elif choice==2:\n",
    "#     print(options[2](num1,num2))\n",
    "\n",
    "# else:\n",
    "#     print(options[3](num1,num2))\n",
    "\n",
    "#This code will raise an error, I was trying to understand that can a function be called if it is present in a list in str format, \n",
    "# but it doesnt\n",
    "\n",
    "#Corrected code\n",
    "\n",
    "\n",
    "print(\"Enter 0 for addition\")\n",
    "print(\"Enter 1 for subtraction\")\n",
    "print(\"Enter 2 for multiplication\")\n",
    "print(\"Enter 3 for division\")\n",
    "\n",
    "choice=int(input(\"Input Choice\"))\n",
    "num1=int(input(\"Enter number 1\"))\n",
    "num2=int(input(\"Enter number 2\"))\n",
    "\n",
    "\n",
    "add=lambda a,b:a+b\n",
    "\n",
    "\n",
    "subtract=lambda a,b:a-b\n",
    "\n",
    "\n",
    "multiply=lambda a,b:a*b\n",
    "\n",
    "\n",
    "divide=lambda a,b:a/b\n",
    "\n",
    "if choice==0:\n",
    "    print(\"Answer: \",add(num1,num2))\n",
    "\n",
    "elif choice==1:\n",
    "    print(\"Answer: \",subtract(num1,num2))\n",
    "\n",
    "elif choice==2:\n",
    "    print(\"Answer: \",multiply(num1,num2))\n",
    "\n",
    "else:\n",
    "    print(\"Answer: \",divide(num1,num2))"
   ]
  },
  {
   "cell_type": "markdown",
   "metadata": {},
   "source": [
    "Decorators\n",
    "\n",
    "A decorator is a design pattern in Python that allows a user to add new functionality to an existing object without modifying its structure."
   ]
  },
  {
   "cell_type": "code",
   "execution_count": 10,
   "metadata": {},
   "outputs": [
    {
     "name": "stdout",
     "output_type": "stream",
     "text": [
      "Hello user!\n",
      "Hello World!\n",
      "Thanks for using\n",
      "Hello user!\n",
      "5\n",
      "Thanks for using\n"
     ]
    }
   ],
   "source": [
    "def greet(fx):\n",
    "    def wrapper(*args, **kwargs):\n",
    "        print(\"Hello user!\")\n",
    "        fx(*args, **kwargs)\n",
    "        print(\"Thanks for using\")\n",
    "    return wrapper\n",
    "\n",
    "@greet\n",
    "def hello():\n",
    "    print(\"Hello World!\")\n",
    "\n",
    "@greet\n",
    "def add(a,b):\n",
    "    print(a+b)\n",
    "\n",
    "hello()\n",
    "add(3,2)"
   ]
  },
  {
   "cell_type": "markdown",
   "metadata": {},
   "source": [
    "OOPs"
   ]
  },
  {
   "cell_type": "code",
   "execution_count": 3,
   "metadata": {},
   "outputs": [
    {
     "name": "stdout",
     "output_type": "stream",
     "text": [
      "KD has scored 91\n"
     ]
    }
   ],
   "source": [
    "class student():\n",
    "    def __init__(self,name,marks):\n",
    "        self.name=name\n",
    "        self.marks=marks\n",
    "    \n",
    "    def disp(self):\n",
    "        print(f\"{self.name} has scored {self.marks}\")\n",
    "\n",
    "a=student(\"KD\",\"91\")\n",
    "a.disp()"
   ]
  },
  {
   "cell_type": "code",
   "execution_count": null,
   "metadata": {},
   "outputs": [],
   "source": [
    "#OOPS\n",
    "\n",
    "class product():\n",
    "    \n",
    "    def __init__(self,product_name,price,expiry,quant):\n",
    "        self.product_name=product_name\n",
    "        self.price = price\n",
    "        self.expiry = expiry\n",
    "        self.quantity_available = quant\n",
    "\n",
    "    def display_product_info(self):\n",
    "        print(f\"Name: {self.product_name}\")\n",
    "        print(f\"Price: {self.price}\")\n",
    "        print(f\"Expiry: {self.expiry}\")\n",
    "        print(f\"Quantity: {self.quantity_available}\")\n",
    "\n",
    "    def plus_quantity(self):\n",
    "        add=int(input(\"Enter quantity to be added: \"))\n",
    "        self.quantity_available+=add\n",
    "        print(f\"New quantity is {self.quantity_available}\")\n",
    "\n",
    "    def minus_quantity(self):\n",
    "        sub=int(input(\"Enter quantity to be removed: \"))\n",
    "        self.quantity_available-=sub\n",
    "        print(f\"New quantity is {self.quantity_available}\")\n",
    "\n",
    "class buyer():\n",
    "    def __init__(self, buyer_name, buyer_id, money, contact):\n",
    "        \n",
    "        self.buyer_name=buyer_name\n",
    "        self.buyer_id=buyer_id\n",
    "        self.money=money\n",
    "        self.contact=contact\n",
    "\n",
    "\n",
    "        \n",
    "        print(f\"The details of buyer are:\")\n",
    "        print(f\"Name: {buyer_name}\")\n",
    "        print(f\"ID: {buyer_id}\")\n",
    "        print(f\"Money Available: {money}\")\n",
    "        print(f\"Contact: {contact}\")\n",
    "        \n",
    "    def buy(self,price,quant,name):\n",
    "        choice_of_food=input(\"Enter food: \")\n",
    "        to_buy_quantity=int(input(\"Enter quantity to buy: \"))\n",
    "        to_pay=int(price*to_buy_quantity)\n",
    "\n",
    "        if choice_of_food==name:\n",
    "            if self.money > to_pay and to_buy_quantity<quant:\n",
    "                self.money -= to_pay\n",
    "                print(f'Remaining balance: {self.money}')\n",
    "            else:\n",
    "                print(\"Insufficient Balance or quantity\")\n",
    "        else:\n",
    "            print(\"Error\")\n",
    "\n",
    "Buyer1=buyer(\"Kashyap\",\"001\",700,\"7666641235\")\n",
    "food=product(\"chips\",10,\"June 2024\",5)\n",
    "food.display_product_info()\n",
    "# food.plus_quantity() \n",
    "\n",
    "Buyer1.buy(food.price,food.quantity_available,food.product_name)\n",
    "\n",
    "\n"
   ]
  }
 ],
 "metadata": {
  "kernelspec": {
   "display_name": "Python 3",
   "language": "python",
   "name": "python3"
  },
  "language_info": {
   "codemirror_mode": {
    "name": "ipython",
    "version": 3
   },
   "file_extension": ".py",
   "mimetype": "text/x-python",
   "name": "python",
   "nbconvert_exporter": "python",
   "pygments_lexer": "ipython3",
   "version": "3.12.0"
  }
 },
 "nbformat": 4,
 "nbformat_minor": 2
}
