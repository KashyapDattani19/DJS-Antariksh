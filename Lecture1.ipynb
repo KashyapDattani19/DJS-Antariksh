{
 "cells": [
  {
   "cell_type": "markdown",
   "metadata": {},
   "source": [
    "Lecture-1 7th-August"
   ]
  },
  {
   "cell_type": "code",
   "execution_count": 30,
   "metadata": {},
   "outputs": [],
   "source": [
    "my_data='Name: Kashyap Dattani\\nSAP Id: 60002231111'"
   ]
  },
  {
   "cell_type": "code",
   "execution_count": 24,
   "metadata": {},
   "outputs": [
    {
     "name": "stdout",
     "output_type": "stream",
     "text": [
      "10 20 30\n"
     ]
    }
   ],
   "source": [
    "x,y,z=10,20,30\n",
    "print(x,y,z)"
   ]
  },
  {
   "cell_type": "code",
   "execution_count": 25,
   "metadata": {},
   "outputs": [
    {
     "name": "stdout",
     "output_type": "stream",
     "text": [
      "Kashyap Dattani\n"
     ]
    }
   ],
   "source": [
    "print(\"Kashyap Dattani\")"
   ]
  },
  {
   "cell_type": "code",
   "execution_count": 26,
   "metadata": {},
   "outputs": [
    {
     "name": "stdout",
     "output_type": "stream",
     "text": [
      "10 kd True\n"
     ]
    }
   ],
   "source": [
    "a,b,c=10,\"kd\",True\n",
    "print(a,b,c)"
   ]
  },
  {
   "cell_type": "code",
   "execution_count": 27,
   "metadata": {},
   "outputs": [
    {
     "name": "stdout",
     "output_type": "stream",
     "text": [
      "10 kd True\n"
     ]
    }
   ],
   "source": [
    "a=10\n",
    "b=\"kd\"\n",
    "c=True\n",
    "print(a,b,c)"
   ]
  },
  {
   "cell_type": "code",
   "execution_count": 28,
   "metadata": {},
   "outputs": [
    {
     "name": "stdout",
     "output_type": "stream",
     "text": [
      "Exp1a: To study different data types in python.\n",
      "Name: Kashyap Dattani\n",
      "SAP Id: 60002231111\n",
      "<class 'int'>\n",
      "<class 'float'>\n",
      "<class 'str'>\n",
      "<class 'bool'>\n"
     ]
    }
   ],
   "source": [
    "print(\"Exp1a: To study different data types in python.\")\n",
    "print(my_data)\n",
    "\n",
    "num1=10\n",
    "print(type(num1))\n",
    "\n",
    "num2=11.1\n",
    "print(type(num2))\n",
    "\n",
    "greet=\"Hello, Good Morning\"\n",
    "print(type(greet))\n",
    "\n",
    "var4=True\n",
    "print(type(var4))\n"
   ]
  },
  {
   "cell_type": "code",
   "execution_count": 29,
   "metadata": {},
   "outputs": [
    {
     "ename": "ValueError",
     "evalue": "invalid literal for int() with base 10: ''",
     "output_type": "error",
     "traceback": [
      "\u001b[1;31m---------------------------------------------------------------------------\u001b[0m",
      "\u001b[1;31mValueError\u001b[0m                                Traceback (most recent call last)",
      "Input \u001b[1;32mIn [29]\u001b[0m, in \u001b[0;36m<cell line: 1>\u001b[1;34m()\u001b[0m\n\u001b[1;32m----> 1\u001b[0m a\u001b[38;5;241m=\u001b[39m\u001b[38;5;28;43mint\u001b[39;49m\u001b[43m(\u001b[49m\u001b[38;5;28;43minput\u001b[39;49m\u001b[43m(\u001b[49m\u001b[38;5;124;43m\"\u001b[39;49m\u001b[38;5;124;43mËnter a number:\u001b[39;49m\u001b[38;5;124;43m\"\u001b[39;49m\u001b[43m)\u001b[49m\u001b[43m)\u001b[49m\n\u001b[0;32m      2\u001b[0m a\n",
      "\u001b[1;31mValueError\u001b[0m: invalid literal for int() with base 10: ''"
     ]
    }
   ],
   "source": [
    "a=int(input(\"Ënter a number:\"))\n",
    "a"
   ]
  },
  {
   "cell_type": "code",
   "execution_count": null,
   "metadata": {},
   "outputs": [
    {
     "name": "stdout",
     "output_type": "stream",
     "text": [
      "The sum is: 15\n"
     ]
    }
   ],
   "source": [
    "print(\"The sum is:\", int(input(\"Enter number 1\"))+ int(input(\"Enter number 2\")))"
   ]
  },
  {
   "cell_type": "code",
   "execution_count": null,
   "metadata": {},
   "outputs": [
    {
     "name": "stdout",
     "output_type": "stream",
     "text": [
      "The sum is: 5.3\n"
     ]
    }
   ],
   "source": [
    "print(\"The sum is:\", float(input(\"Enter number 1\"))+ float(input(\"Enter number 2\")))"
   ]
  },
  {
   "cell_type": "code",
   "execution_count": null,
   "metadata": {},
   "outputs": [
    {
     "name": "stdout",
     "output_type": "stream",
     "text": [
      "The SI is: 0.35\n"
     ]
    }
   ],
   "source": [
    "print(\"The SI is:\", (float(input(\"Enter P:\"))+ float(input(\"Enter R:\"))+ float(input(\"Enter T:\")))/100)"
   ]
  },
  {
   "cell_type": "code",
   "execution_count": null,
   "metadata": {},
   "outputs": [
    {
     "name": "stdout",
     "output_type": "stream",
     "text": [
      "(7+8j) + (7+3j) = (14+11j)\n"
     ]
    }
   ],
   "source": [
    "a=7+8j\n",
    "b=3+4+3j\n",
    "c=a+b\n",
    "print(a,\"+\",b,\"=\",c)"
   ]
  },
  {
   "cell_type": "code",
   "execution_count": null,
   "metadata": {},
   "outputs": [
    {
     "name": "stdout",
     "output_type": "stream",
     "text": [
      "Hello kd\n"
     ]
    }
   ],
   "source": [
    "name=input(\"Enter yout name\")\n",
    "print(\"Hello\",name)"
   ]
  },
  {
   "cell_type": "code",
   "execution_count": null,
   "metadata": {},
   "outputs": [
    {
     "name": "stdout",
     "output_type": "stream",
     "text": [
      "Exp1b/c: To implement different string manipulatiobn function.\n",
      "Name: Kashyap Dattani\n",
      "SAP Id: 60002231111\n",
      "Hello Kashyap\n",
      "H\n",
      "p\n",
      "llo\n",
      "llo Kashyap\n",
      "Hello\n",
      "Hello KashyapHello Kashyap Hello Kashyap\n",
      "13\n"
     ]
    }
   ],
   "source": [
    "print(\"Exp1b/c: To implement different string manipulatiobn function.\")\n",
    "print(my_data)\n",
    "\n",
    "str=\"Hello Kashyap\"\n",
    "print(str)\n",
    "print(str[0])\n",
    "print(str[-1])\n",
    "print(str[2:5])\n",
    "print(str[2:])\n",
    "print(str[:5])\n",
    "print(str*2,str)\n",
    "print(len(str))"
   ]
  },
  {
   "cell_type": "code",
   "execution_count": null,
   "metadata": {},
   "outputs": [
    {
     "data": {
      "text/plain": [
       "2"
      ]
     },
     "execution_count": 74,
     "metadata": {},
     "output_type": "execute_result"
    }
   ],
   "source": [
    "test_str=\"Hello Kashyap\"\n",
    "counter=test_str.count('a')\n",
    "counter\n"
   ]
  },
  {
   "cell_type": "code",
   "execution_count": null,
   "metadata": {},
   "outputs": [
    {
     "name": "stdout",
     "output_type": "stream",
     "text": [
      "Exp1d: To implement different list manipulatiobn function.\n",
      "Name: Kashyap Dattani\n",
      "SAP Id: 60002231111\n",
      "(1, 2, 3)\n",
      "(4, 5, 6, 7)\n",
      "(1, 2, 3, 4, 5, 6, 7)\n"
     ]
    }
   ],
   "source": [
    "\n",
    "\n",
    "list1=eval(input(\"Enter Elements for List 1:\"))\n",
    "print(list1)\n",
    "\n",
    "list2=eval(input(\"Enter Elements for List 2:\"))\n",
    "print(list2)\n",
    "\n",
    "list3=list1+list2\n",
    "print(list3)\n",
    "\n",
    "\n"
   ]
  },
  {
   "cell_type": "code",
   "execution_count": null,
   "metadata": {},
   "outputs": [
    {
     "name": "stdout",
     "output_type": "stream",
     "text": [
      "1\n",
      "7\n",
      "(3, 4, 5)\n",
      "(3, 4, 5, 6, 7)\n",
      "(1, 2, 3, 4, 5)\n",
      "(1, 2, 3, 4, 5, 6, 7, 1, 2, 3, 4, 5, 6, 7, 1, 2, 3, 4, 5, 6, 7)\n",
      "7\n"
     ]
    }
   ],
   "source": [
    "print(list3[0])\n",
    "print(list3[-1])\n",
    "print(list3[2:5])\n",
    "print(list3[2:])\n",
    "print(list3[:5])\n",
    "print(list3*2+list3)\n",
    "print(len(list3))\n"
   ]
  },
  {
   "cell_type": "code",
   "execution_count": null,
   "metadata": {},
   "outputs": [
    {
     "name": "stdout",
     "output_type": "stream",
     "text": [
      "Exp1d: To implement different list manipulatiobn function.\n",
      "Name: Kashyap Dattani\n",
      "SAP Id: 60002231111\n",
      "['violet', 'indigo', 'blue', 'green', 'yellow', 'orange', 'red']\n",
      "blue\n",
      "yellow\n",
      "['violet', 'indigo', 'blue', 'green', 'yellow', 'orange', 'red', 'white']\n",
      "['violet', 'indigo', 'blue', 'green', 'yellow', 'orange', 'red']\n",
      "['blue', 'green', 'indigo', 'orange', 'red', 'violet', 'yellow']\n"
     ]
    }
   ],
   "source": [
    "print(\"Exp1d: To implement different list manipulatiobn function.\")\n",
    "print(my_data)\n",
    "\n",
    "rainbow1=['violet','indigo','blue']\n",
    "rainbow2=['green','yellow','orange','red']\n",
    "\n",
    "rainbow=rainbow1+rainbow2\n",
    "print(rainbow)\n",
    "\n",
    "print(rainbow[2])\n",
    "print(rainbow[-3])\n",
    "\n",
    "rainbow.append('white')\n",
    "print(rainbow)\n",
    "\n",
    "rainbow.remove('white')\n",
    "print(rainbow)\n",
    "\n",
    "rainbow.sort()\n",
    "print(rainbow)\n"
   ]
  },
  {
   "cell_type": "markdown",
   "metadata": {},
   "source": [
    "Lecture-2 14th-August"
   ]
  },
  {
   "cell_type": "code",
   "execution_count": null,
   "metadata": {},
   "outputs": [
    {
     "name": "stdout",
     "output_type": "stream",
     "text": [
      "200\n"
     ]
    }
   ],
   "source": [
    "#Area of rectangle\n",
    "\n",
    "length=10\n",
    "breath=20\n",
    "area=length*breath\n",
    "print(area)"
   ]
  },
  {
   "cell_type": "code",
   "execution_count": null,
   "metadata": {},
   "outputs": [
    {
     "name": "stdout",
     "output_type": "stream",
     "text": [
      "6.0\n"
     ]
    }
   ],
   "source": [
    "#Sqrt of a number\n",
    "\n",
    "num=int(input('Enter a number:'))\n",
    "result=num**0.5\n",
    "print(result)"
   ]
  },
  {
   "cell_type": "code",
   "execution_count": null,
   "metadata": {},
   "outputs": [
    {
     "name": "stdout",
     "output_type": "stream",
     "text": [
      "Entered values are:(10, 20)\n",
      "Swapped values are:(20, 10)\n"
     ]
    }
   ],
   "source": [
    "num1=int(input('Enter 1st number:'))\n",
    "num2=int(input('Enter 2nd number:'))\n",
    "\n",
    "print(f'Entered values are:{num1,num2}')\n",
    "num1,num2=num2,num1\n",
    "print(f'Swapped values are:{num1,num2}')"
   ]
  },
  {
   "cell_type": "code",
   "execution_count": null,
   "metadata": {},
   "outputs": [
    {
     "name": "stdout",
     "output_type": "stream",
     "text": [
      "(10, 20, 30, 40, 50, 60)\n"
     ]
    }
   ],
   "source": [
    "#Tuple\n",
    "\n",
    "t1=(10,20,30)\n",
    "t2=(40,50,60)\n",
    "new_t=t1+t2\n",
    "print(new_t)\n"
   ]
  },
  {
   "cell_type": "code",
   "execution_count": 59,
   "metadata": {},
   "outputs": [
    {
     "name": "stdout",
     "output_type": "stream",
     "text": [
      "('abcd', 789, 2.23, 'John', 70.2)\n",
      "789\n",
      "(789, 2.23, 'John')\n",
      "('abcd', 789, 2.23, 'John', 70.2, 'abcd', 789, 2.23, 'John', 70.2)\n",
      "('abcd', 789, 2.23, 'John', 70.2, 123, 'John')\n"
     ]
    }
   ],
   "source": [
    "tuple1 = ('abcd',789,2.23,'John',70.2)\n",
    "tinytuple = (123,\"John\")\n",
    "\n",
    "print(tuple1)\n",
    "print(tuple1[1])\n",
    "print(tuple1[1:-1])\n",
    "print(tuple1*2)\n",
    "print(tuple1+tinytuple)"
   ]
  },
  {
   "cell_type": "code",
   "execution_count": 38,
   "metadata": {},
   "outputs": [
    {
     "name": "stdout",
     "output_type": "stream",
     "text": [
      "Exp2a: Combining tuples in list of tuples.\n",
      "Name: Kashyap Dattani\n",
      "SAP Id: 60002231111\n",
      "6\n",
      "Mango\n",
      "Orange\n",
      "('Dragonfruit', 'Banana', 'Kiwi')\n",
      "('Mango', 'Apple', 'Dragonfruit', 'Banana', 'Kiwi', 'Orange', 'Pear')\n"
     ]
    }
   ],
   "source": [
    "print(\"Exp2a: Combining tuples in list of tuples.\")\n",
    "print(my_data)\n",
    "\n",
    "fruits=('Mango','Apple','Dragonfruit','Banana','Kiwi','Orange')\n",
    "\n",
    "print(len(fruits))\n",
    "print(fruits[0])\n",
    "print(fruits[-1])\n",
    "print(fruits[2:5])\n",
    "\n",
    "new_fruit=('Pear',)\n",
    "\n",
    "fruits=fruits+new_fruit\n",
    "print(fruits)"
   ]
  },
  {
   "cell_type": "code",
   "execution_count": 71,
   "metadata": {},
   "outputs": [
    {
     "name": "stdout",
     "output_type": "stream",
     "text": [
      "['Mango', 'Apple', 'Dragonfruit', 'Banana', 'Kiwi', 'Orange', 'Pear']\n"
     ]
    },
    {
     "data": {
      "text/plain": [
       "list"
      ]
     },
     "execution_count": 71,
     "metadata": {},
     "output_type": "execute_result"
    }
   ],
   "source": [
    "x=('Mango','Apple','Dragonfruit','Banana','Kiwi','Orange')\n",
    "y=('Pear')\n",
    "z=list(x)\n",
    "z.append(y)\n",
    "x=(z)\n",
    "print(x)\n",
    "type(x)\n",
    "\n",
    "#issue\n"
   ]
  },
  {
   "cell_type": "code",
   "execution_count": 88,
   "metadata": {},
   "outputs": [
    {
     "name": "stdout",
     "output_type": "stream",
     "text": [
      "{1, 2, 3, 4, 8}\n",
      "True\n"
     ]
    }
   ],
   "source": [
    "set1={1,2,3,4,8}\n",
    "set2={8,9,10}\n",
    "print(set1)\n",
    "print(2 in set1)"
   ]
  },
  {
   "cell_type": "code",
   "execution_count": 93,
   "metadata": {},
   "outputs": [
    {
     "name": "stdout",
     "output_type": "stream",
     "text": [
      "7666641235\n",
      "dict_keys(['Kashyap', 'Khushal', 'Maanya', 'Jay'])\n"
     ]
    }
   ],
   "source": [
    "#Dictionary\n",
    "\n",
    "data={'Kashyap':7666641235,'Khushal':9967099908,'Maanya':1234565236,'Jay':8966554712}\n",
    "print(data['Kashyap'])\n",
    "print(data.keys())\n"
   ]
  },
  {
   "cell_type": "code",
   "execution_count": 105,
   "metadata": {},
   "outputs": [
    {
     "name": "stdout",
     "output_type": "stream",
     "text": [
      "Exp2c: To study list and dictionary comprehension.\n",
      "Name: Kashyap Dattani\n",
      "SAP Id: 60002231111\n",
      "{'Brand': 'Ford', 'Model': 'Mustang', 'Year': 1964}\n",
      "Mustang\n",
      "{'Brand': 'Ford', 'Model': 'Mustang', 'Year': 2005}\n",
      "3\n",
      "{'Brand': 'Ford', 'Electric': False, 'Model': 'Mustang', 'Year': 1964, 'Colors': ['red', 'black', 'white']}\n",
      "{'Brand': 'Ford', 'Electric': False, 'Model': 'Mustang', 'Year': 2005, 'Colors': ['red', 'black', 'white']}\n",
      "{'Brand': 'Ford', 'Electric': False, 'Model': 'Mustang', 'Year': 2005, 'Colors': ['red', 'black', 'white'], 'Year_new': 2024}\n"
     ]
    },
    {
     "data": {
      "text/plain": [
       "dict"
      ]
     },
     "execution_count": 105,
     "metadata": {},
     "output_type": "execute_result"
    }
   ],
   "source": [
    "print(\"Exp2c: To study list and dictionary comprehension.\")\n",
    "print(my_data)\n",
    "\n",
    "thisdict={'Brand':'Ford','Model':'Mustang','Year':1964}\n",
    "print(thisdict)\n",
    "\n",
    "print(thisdict[\"Model\"])\n",
    "\n",
    "thisdict={'Brand':'Ford','Model':'Mustang','Year':1964,'Year':2005}\n",
    "print(thisdict)\n",
    "print(len(thisdict))\n",
    "\n",
    "thisdict={'Brand':'Ford','Electric':False,'Model':'Mustang','Year':1964,'Colors':['red','black','white']}\n",
    "print(thisdict)\n",
    "\n",
    "thisdict['Year']=2005\n",
    "print(thisdict)\n",
    "\n",
    "thisdict['Year_new']=2024\n",
    "print(thisdict)\n",
    "\n",
    "newdict=thisdict\n",
    "type(newdict)"
   ]
  },
  {
   "cell_type": "code",
   "execution_count": 108,
   "metadata": {},
   "outputs": [
    {
     "name": "stdout",
     "output_type": "stream",
     "text": [
      "Exp2d: To count the number of letters/ vowels/ consonants in a dictionary.\n",
      "Name: Kashyap Dattani\n",
      "SAP Id: 60002231111\n",
      "{'Brand': 'Ford', 'Model': 'Mustang', 'Year': 1964}\n",
      "8\n"
     ]
    }
   ],
   "source": [
    "print(\"Exp2d: To count the number of letters/ vowels/ consonants in a dictionary.\")\n",
    "print(my_data)\n",
    "\n",
    "thisdict={'Brand':'Ford','Model':'Mustang','Year':1964}\n",
    "y=str(thisdict)\n",
    "print(y)\n",
    "\n",
    "vowels='aeiouAEIOU'\n",
    "count=sum(y.count(vowel)for vowel in vowels)\n",
    "print(count)"
   ]
  },
  {
   "cell_type": "code",
   "execution_count": null,
   "metadata": {},
   "outputs": [],
   "source": []
  }
 ],
 "metadata": {
  "kernelspec": {
   "display_name": "Python 3",
   "language": "python",
   "name": "python3"
  },
  "language_info": {
   "codemirror_mode": {
    "name": "ipython",
    "version": 3
   },
   "file_extension": ".py",
   "mimetype": "text/x-python",
   "name": "python",
   "nbconvert_exporter": "python",
   "pygments_lexer": "ipython3",
   "version": "3.10.5"
  }
 },
 "nbformat": 4,
 "nbformat_minor": 2
}
